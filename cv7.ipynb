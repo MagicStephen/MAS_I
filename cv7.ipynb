{
 "cells": [
  {
   "cell_type": "code",
   "execution_count": null,
   "metadata": {},
   "outputs": [],
   "source": [
    "import random\n",
    "\n",
    "def ba_model_edges_only(start_node, n, m):\n",
    "    edges = []\n",
    "    degrees = {}\n",
    "\n",
    "    # init edges triangle\n",
    "    for i in range(start_node, start_node + m):\n",
    "        for j in range(i + 1, start_node + m):\n",
    "            edges.append((i, j))\n",
    "            degrees[i] = degrees.get(i, 0) + 1\n",
    "            degrees[j] = degrees.get(j, 0) + 1\n",
    "    \n",
    "    # add new node\n",
    "    for new_node in range(start_node + m, start_node + n):\n",
    "        targets = []\n",
    "        total_degree = sum(degrees.values())\n",
    "\n",
    "        while len(targets) < m:\n",
    "            rand_choice = random.uniform(0, total_degree)\n",
    "            cumulative = 0\n",
    "            \n",
    "            for node, degree in degrees.items():\n",
    "                cumulative += degree\n",
    "                if rand_choice <= cumulative:\n",
    "                    if node not in targets:\n",
    "                        targets.append(node)\n",
    "                    break\n",
    "\n",
    "        for target in targets:\n",
    "            edges.append((new_node, target))\n",
    "            degrees[new_node] = degrees.get(new_node, 0) + 1\n",
    "            degrees[target] += 1\n",
    "    return edges"
   ]
  },
  {
   "cell_type": "code",
   "execution_count": 93,
   "metadata": {},
   "outputs": [],
   "source": [
    "import pandas as pd\n",
    "# Generování sítě\n",
    "edges = pd.DataFrame(ba_model_edges_only(start_node=1, n=550, m=3), columns=[\"Source\", \"Target\"])\n",
    "\n",
    "# Uložení do CSV\n",
    "edges.to_csv(\"ba_model_m3_.csv\", index=False)"
   ]
  },
  {
   "cell_type": "code",
   "execution_count": 102,
   "metadata": {},
   "outputs": [
    {
     "name": "stdout",
     "output_type": "stream",
     "text": [
      "Komunita 0: [3, 15, 19, 25, 27, 33, 36, 55, 61, 66, 82, 85, 99, 102, 104, 126, 145, 152, 169, 174, 175, 179, 187, 190, 195, 206, 232, 252, 284, 297, 299, 336, 351, 370, 388, 392, 404, 431, 452, 475, 500, 511, 520, 539, 544]\n",
      "Komunita 1: [38, 62, 77, 103, 112, 118, 155, 161, 164, 168, 173, 178, 189, 197, 211, 219, 268, 283, 293, 313, 334, 371, 379, 382, 426, 441, 498, 504, 505, 514, 522]\n",
      "Komunita 2: [68, 76, 80, 88, 107, 113, 138, 151, 153, 162, 176, 201, 215, 236, 245, 246, 249, 282, 294, 323, 335, 391, 396, 405, 428, 437, 458, 490, 495, 506, 529]\n",
      "Komunita 3: [1, 6, 21, 28, 29, 67, 79, 83, 86, 92, 94, 101, 132, 134, 154, 214, 221, 226, 244, 256, 260, 270, 278, 290, 319, 324, 341, 389, 390, 400, 419, 420, 430, 438, 448, 482, 483, 489, 494, 499, 502, 503, 509, 516, 521, 525, 528, 549]\n",
      "Komunita 4: [95, 122, 128, 137, 192, 204, 205, 218, 220, 247, 250, 296, 304, 312, 315, 318, 325, 327, 332, 337, 340, 349, 356, 357, 360, 374, 377, 381, 411, 413, 446, 454]\n",
      "Komunita 5: [4, 5, 7, 9, 10, 11, 23, 24, 26, 32, 37, 44, 48, 54, 56, 60, 63, 96, 98, 129, 139, 143, 156, 159, 160, 166, 167, 172, 180, 181, 183, 191, 198, 212, 217, 230, 234, 235, 237, 264, 271, 275, 286, 287, 300, 301, 309, 310, 317, 320, 331, 347, 355, 365, 375, 378, 387, 397, 412, 414, 421, 432, 461, 463, 478, 488, 496, 512, 532, 534, 536, 541, 548]\n",
      "Komunita 6: [8, 18, 43, 47, 59, 70, 75, 78, 87, 89, 90, 106, 111, 116, 123, 127, 147, 149, 163, 171, 177, 184, 193, 196, 202, 216, 242, 243, 248, 257, 295, 345, 353, 358, 367, 385, 399, 408, 422, 423, 429, 433, 443, 444, 456, 457, 466, 471, 473, 507, 508, 517, 518, 527, 540, 545, 546]\n",
      "Komunita 7: [13, 20, 30, 40, 42, 50, 73, 110, 114, 142, 188, 208, 224, 229, 239, 240, 267, 272, 288, 305, 329, 343, 363, 364, 376, 384, 417, 424, 427, 434, 455, 462, 472, 477, 485, 491, 510, 515, 526, 537]\n",
      "Komunita 8: [31, 39, 72, 124, 133, 140, 144, 165, 210, 238, 266, 279, 281, 308, 326, 328, 361, 362, 369, 393, 402, 416, 439, 449, 460, 481]\n",
      "Komunita 9: [34, 41, 46, 65, 74, 91, 97, 117, 120, 125, 146, 157, 213, 225, 228, 233, 253, 254, 258, 261, 269, 276, 307, 316, 330, 338, 344, 350, 354, 368, 372, 415, 450, 464, 492, 497, 530, 543]\n",
      "Komunita 10: [22, 35, 45, 52, 64, 69, 71, 84, 108, 115, 121, 130, 150, 182, 185, 200, 203, 207, 209, 223, 255, 262, 265, 277, 292, 302, 303, 314, 321, 359, 380, 383, 395, 418, 436, 447, 451, 465, 469, 480, 486, 524, 531, 535, 538, 542]\n",
      "Komunita 11: [49, 58, 100, 119, 136, 158, 227, 231, 251, 259, 263, 274, 280, 291, 298, 311, 346, 398, 401, 406, 409, 425, 440, 442, 445, 453, 459, 474, 476, 479, 523]\n",
      "Komunita 12: [2, 12, 14, 16, 17, 51, 53, 57, 81, 93, 105, 109, 131, 135, 141, 148, 170, 186, 194, 199, 222, 241, 273, 285, 289, 306, 322, 333, 339, 342, 348, 352, 366, 373, 386, 394, 403, 407, 410, 435, 467, 468, 470, 484, 487, 493, 501, 513, 519, 533, 547, 550]\n"
     ]
    }
   ],
   "source": [
    "\n",
    "import networkx as nx\n",
    "from networkx.algorithms import community\n",
    "\n",
    "edges_tuples = list(edges.itertuples(index=False, name=None))\n",
    "\n",
    "G = nx.Graph()\n",
    "G.add_edges_from(edges_tuples)\n",
    "\n",
    "communities = community.louvain_communities(G)\n",
    "\n",
    "for i, comm in enumerate(communities):\n",
    "    print(f\"Komunita {i}: {sorted(comm)}\")"
   ]
  },
  {
   "cell_type": "markdown",
   "metadata": {},
   "source": [
    "| vlastnosti | m=2 | m=3 |\n",
    "| -- | -- | -- |\n",
    "| počet komponent souvislosti | 1 | 1 |\n",
    "| distribuce velikosti komponent souvislosti |  |  |\n",
    "| velikost největší komponenty souvislosti | 550 | 550 |\n",
    "| průměr | 3.989 | 5.978|\n",
    "| průměrná vzdálenost | 7 | 6 |\n",
    "| shlukovací koeficient | 0.03  | 0.04 |\n",
    "| komunitní struktura | 16 | 13 |\n",
    "| centrality | | |"
   ]
  }
 ],
 "metadata": {
  "kernelspec": {
   "display_name": "Python 3",
   "language": "python",
   "name": "python3"
  },
  "language_info": {
   "codemirror_mode": {
    "name": "ipython",
    "version": 3
   },
   "file_extension": ".py",
   "mimetype": "text/x-python",
   "name": "python",
   "nbconvert_exporter": "python",
   "pygments_lexer": "ipython3",
   "version": "3.12.4"
  }
 },
 "nbformat": 4,
 "nbformat_minor": 2
}
