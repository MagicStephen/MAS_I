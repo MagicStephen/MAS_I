{
 "cells": [
  {
   "cell_type": "code",
   "execution_count": 1,
   "metadata": {
    "id": "6JFcsjzsT_hf"
   },
   "outputs": [
    {
     "name": "stderr",
     "output_type": "stream",
     "text": [
      "C:\\Users\\z004bvhf\\AppData\\Local\\Temp\\ipykernel_19208\\3402702372.py:1: DeprecationWarning: \n",
      "Pyarrow will become a required dependency of pandas in the next major release of pandas (pandas 3.0),\n",
      "(to allow more performant data types, such as the Arrow string type, and better interoperability with other libraries)\n",
      "but was not found to be installed on your system.\n",
      "If this would cause problems for you,\n",
      "please provide us feedback at https://github.com/pandas-dev/pandas/issues/54466\n",
      "        \n",
      "  import pandas as pd\n"
     ]
    }
   ],
   "source": [
    "import pandas as pd\n",
    "import matplotlib.pyplot as plt\n",
    "import networkx as nx\n",
    "import numpy as np"
   ]
  },
  {
   "cell_type": "code",
   "execution_count": 2,
   "metadata": {
    "colab": {
     "base_uri": "https://localhost:8080/"
    },
    "id": "tiy1tq0rUExg",
    "outputId": "5cff955d-e038-461f-cba7-1aad2325ed89"
   },
   "outputs": [
    {
     "data": {
      "text/plain": [
       "array([[5.1, 3.5, 1.4, 0.2],\n",
       "       [4.9, 3. , 1.4, 0.2],\n",
       "       [4.7, 3.2, 1.3, 0.2],\n",
       "       [4.6, 3.1, 1.5, 0.2],\n",
       "       [5. , 3.6, 1.4, 0.2],\n",
       "       [5.4, 3.9, 1.7, 0.4],\n",
       "       [4.6, 3.4, 1.4, 0.3],\n",
       "       [5. , 3.4, 1.5, 0.2],\n",
       "       [4.4, 2.9, 1.4, 0.2],\n",
       "       [4.9, 3.1, 1.5, 0.1],\n",
       "       [5.4, 3.7, 1.5, 0.2],\n",
       "       [4.8, 3.4, 1.6, 0.2],\n",
       "       [4.8, 3. , 1.4, 0.1],\n",
       "       [4.3, 3. , 1.1, 0.1],\n",
       "       [5.8, 4. , 1.2, 0.2],\n",
       "       [5.7, 4.4, 1.5, 0.4],\n",
       "       [5.4, 3.9, 1.3, 0.4],\n",
       "       [5.1, 3.5, 1.4, 0.3],\n",
       "       [5.7, 3.8, 1.7, 0.3],\n",
       "       [5.1, 3.8, 1.5, 0.3],\n",
       "       [5.4, 3.4, 1.7, 0.2],\n",
       "       [5.1, 3.7, 1.5, 0.4],\n",
       "       [4.6, 3.6, 1. , 0.2],\n",
       "       [5.1, 3.3, 1.7, 0.5],\n",
       "       [4.8, 3.4, 1.9, 0.2],\n",
       "       [5. , 3. , 1.6, 0.2],\n",
       "       [5. , 3.4, 1.6, 0.4],\n",
       "       [5.2, 3.5, 1.5, 0.2],\n",
       "       [5.2, 3.4, 1.4, 0.2],\n",
       "       [4.7, 3.2, 1.6, 0.2],\n",
       "       [4.8, 3.1, 1.6, 0.2],\n",
       "       [5.4, 3.4, 1.5, 0.4],\n",
       "       [5.2, 4.1, 1.5, 0.1],\n",
       "       [5.5, 4.2, 1.4, 0.2],\n",
       "       [4.9, 3.1, 1.5, 0.1],\n",
       "       [5. , 3.2, 1.2, 0.2],\n",
       "       [5.5, 3.5, 1.3, 0.2],\n",
       "       [4.9, 3.1, 1.5, 0.1],\n",
       "       [4.4, 3. , 1.3, 0.2],\n",
       "       [5.1, 3.4, 1.5, 0.2],\n",
       "       [5. , 3.5, 1.3, 0.3],\n",
       "       [4.5, 2.3, 1.3, 0.3],\n",
       "       [4.4, 3.2, 1.3, 0.2],\n",
       "       [5. , 3.5, 1.6, 0.6],\n",
       "       [5.1, 3.8, 1.9, 0.4],\n",
       "       [4.8, 3. , 1.4, 0.3],\n",
       "       [5.1, 3.8, 1.6, 0.2],\n",
       "       [4.6, 3.2, 1.4, 0.2],\n",
       "       [5.3, 3.7, 1.5, 0.2],\n",
       "       [5. , 3.3, 1.4, 0.2],\n",
       "       [7. , 3.2, 4.7, 1.4],\n",
       "       [6.4, 3.2, 4.5, 1.5],\n",
       "       [6.9, 3.1, 4.9, 1.5],\n",
       "       [5.5, 2.3, 4. , 1.3],\n",
       "       [6.5, 2.8, 4.6, 1.5],\n",
       "       [5.7, 2.8, 4.5, 1.3],\n",
       "       [6.3, 3.3, 4.7, 1.6],\n",
       "       [4.9, 2.4, 3.3, 1. ],\n",
       "       [6.6, 2.9, 4.6, 1.3],\n",
       "       [5.2, 2.7, 3.9, 1.4],\n",
       "       [5. , 2. , 3.5, 1. ],\n",
       "       [5.9, 3. , 4.2, 1.5],\n",
       "       [6. , 2.2, 4. , 1. ],\n",
       "       [6.1, 2.9, 4.7, 1.4],\n",
       "       [5.6, 2.9, 3.6, 1.3],\n",
       "       [6.7, 3.1, 4.4, 1.4],\n",
       "       [5.6, 3. , 4.5, 1.5],\n",
       "       [5.8, 2.7, 4.1, 1. ],\n",
       "       [6.2, 2.2, 4.5, 1.5],\n",
       "       [5.6, 2.5, 3.9, 1.1],\n",
       "       [5.9, 3.2, 4.8, 1.8],\n",
       "       [6.1, 2.8, 4. , 1.3],\n",
       "       [6.3, 2.5, 4.9, 1.5],\n",
       "       [6.1, 2.8, 4.7, 1.2],\n",
       "       [6.4, 2.9, 4.3, 1.3],\n",
       "       [6.6, 3. , 4.4, 1.4],\n",
       "       [6.8, 2.8, 4.8, 1.4],\n",
       "       [6.7, 3. , 5. , 1.7],\n",
       "       [6. , 2.9, 4.5, 1.5],\n",
       "       [5.7, 2.6, 3.5, 1. ],\n",
       "       [5.5, 2.4, 3.8, 1.1],\n",
       "       [5.5, 2.4, 3.7, 1. ],\n",
       "       [5.8, 2.7, 3.9, 1.2],\n",
       "       [6. , 2.7, 5.1, 1.6],\n",
       "       [5.4, 3. , 4.5, 1.5],\n",
       "       [6. , 3.4, 4.5, 1.6],\n",
       "       [6.7, 3.1, 4.7, 1.5],\n",
       "       [6.3, 2.3, 4.4, 1.3],\n",
       "       [5.6, 3. , 4.1, 1.3],\n",
       "       [5.5, 2.5, 4. , 1.3],\n",
       "       [5.5, 2.6, 4.4, 1.2],\n",
       "       [6.1, 3. , 4.6, 1.4],\n",
       "       [5.8, 2.6, 4. , 1.2],\n",
       "       [5. , 2.3, 3.3, 1. ],\n",
       "       [5.6, 2.7, 4.2, 1.3],\n",
       "       [5.7, 3. , 4.2, 1.2],\n",
       "       [5.7, 2.9, 4.2, 1.3],\n",
       "       [6.2, 2.9, 4.3, 1.3],\n",
       "       [5.1, 2.5, 3. , 1.1],\n",
       "       [5.7, 2.8, 4.1, 1.3],\n",
       "       [6.3, 3.3, 6. , 2.5],\n",
       "       [5.8, 2.7, 5.1, 1.9],\n",
       "       [7.1, 3. , 5.9, 2.1],\n",
       "       [6.3, 2.9, 5.6, 1.8],\n",
       "       [6.5, 3. , 5.8, 2.2],\n",
       "       [7.6, 3. , 6.6, 2.1],\n",
       "       [4.9, 2.5, 4.5, 1.7],\n",
       "       [7.3, 2.9, 6.3, 1.8],\n",
       "       [6.7, 2.5, 5.8, 1.8],\n",
       "       [7.2, 3.6, 6.1, 2.5],\n",
       "       [6.5, 3.2, 5.1, 2. ],\n",
       "       [6.4, 2.7, 5.3, 1.9],\n",
       "       [6.8, 3. , 5.5, 2.1],\n",
       "       [5.7, 2.5, 5. , 2. ],\n",
       "       [5.8, 2.8, 5.1, 2.4],\n",
       "       [6.4, 3.2, 5.3, 2.3],\n",
       "       [6.5, 3. , 5.5, 1.8],\n",
       "       [7.7, 3.8, 6.7, 2.2],\n",
       "       [7.7, 2.6, 6.9, 2.3],\n",
       "       [6. , 2.2, 5. , 1.5],\n",
       "       [6.9, 3.2, 5.7, 2.3],\n",
       "       [5.6, 2.8, 4.9, 2. ],\n",
       "       [7.7, 2.8, 6.7, 2. ],\n",
       "       [6.3, 2.7, 4.9, 1.8],\n",
       "       [6.7, 3.3, 5.7, 2.1],\n",
       "       [7.2, 3.2, 6. , 1.8],\n",
       "       [6.2, 2.8, 4.8, 1.8],\n",
       "       [6.1, 3. , 4.9, 1.8],\n",
       "       [6.4, 2.8, 5.6, 2.1],\n",
       "       [7.2, 3. , 5.8, 1.6],\n",
       "       [7.4, 2.8, 6.1, 1.9],\n",
       "       [7.9, 3.8, 6.4, 2. ],\n",
       "       [6.4, 2.8, 5.6, 2.2],\n",
       "       [6.3, 2.8, 5.1, 1.5],\n",
       "       [6.1, 2.6, 5.6, 1.4],\n",
       "       [7.7, 3. , 6.1, 2.3],\n",
       "       [6.3, 3.4, 5.6, 2.4],\n",
       "       [6.4, 3.1, 5.5, 1.8],\n",
       "       [6. , 3. , 4.8, 1.8],\n",
       "       [6.9, 3.1, 5.4, 2.1],\n",
       "       [6.7, 3.1, 5.6, 2.4],\n",
       "       [6.9, 3.1, 5.1, 2.3],\n",
       "       [5.8, 2.7, 5.1, 1.9],\n",
       "       [6.8, 3.2, 5.9, 2.3],\n",
       "       [6.7, 3.3, 5.7, 2.5],\n",
       "       [6.7, 3. , 5.2, 2.3],\n",
       "       [6.3, 2.5, 5. , 1.9],\n",
       "       [6.5, 3. , 5.2, 2. ],\n",
       "       [6.2, 3.4, 5.4, 2.3],\n",
       "       [5.9, 3. , 5.1, 1.8]])"
      ]
     },
     "execution_count": 2,
     "metadata": {},
     "output_type": "execute_result"
    }
   ],
   "source": [
    "#Nacteni dat\n",
    "data = pd.read_csv(\"datasets/iris.csv\", decimal=',', sep=\";\")\n",
    "\n",
    "# Bez posledniho sloupce\n",
    "data = data.iloc[:, :-1].values\n",
    "data"
   ]
  },
  {
   "cell_type": "code",
   "execution_count": 3,
   "metadata": {
    "id": "tKHVnaOFYLFL"
   },
   "outputs": [],
   "source": [
    "# Gaussova podobnost\n",
    "def gaussian_kernel(x, y, sigma):\n",
    "    return np.exp(-np.linalg.norm(x - y)**2 / (2 * (sigma ** 2)))"
   ]
  },
  {
   "cell_type": "code",
   "execution_count": 4,
   "metadata": {
    "id": "sSNPbz_9YSfs"
   },
   "outputs": [],
   "source": [
    "def knn(data, source_index, vertex, k=3, sigma=1):\n",
    "    similarities = []\n",
    "\n",
    "    for target_index, row in enumerate(data):\n",
    "      if source_index != target_index:\n",
    "        similarity = gaussian_kernel(vertex, row, sigma)\n",
    "        similarities.append((source_index, target_index, similarity))\n",
    "\n",
    "    # Seřadíme podle podobnosti\n",
    "    similarities.sort(key=lambda x: x[2], reverse=True)\n",
    "\n",
    "    #K nejmensich\n",
    "    k_nearest = similarities[:k]\n",
    "\n",
    "    return k_nearest"
   ]
  },
  {
   "cell_type": "code",
   "execution_count": 5,
   "metadata": {
    "id": "hyAArlCh6IZK"
   },
   "outputs": [],
   "source": [
    "def e_radius(data, source_index, vertex, epsilon=0.9, sigma=1):\n",
    "  similarities = []\n",
    "\n",
    "  for target_index, row in enumerate(data):\n",
    "    if source_index != target_index:\n",
    "      similarity = gaussian_kernel(vertex, row, sigma)\n",
    "      if similarity > epsilon:\n",
    "        similarities.append((source_index, target_index, similarity))\n",
    "\n",
    "  # Seřadíme podle podobnosti\n",
    "  similarities.sort(key=lambda x: x[2], reverse=True)\n",
    "\n",
    "  # Vsechny nejmensi pokud maji vzdalenost\n",
    "  k_nearest = similarities[:]\n",
    "\n",
    "  return k_nearest"
   ]
  },
  {
   "cell_type": "code",
   "execution_count": 6,
   "metadata": {
    "id": "mom9uV07DDxI"
   },
   "outputs": [],
   "source": [
    "def knn_e_radius(data, source_index, vertex, k=3, epsilon=0.9, sigma=1):\n",
    "  similarities = []\n",
    "  #E_radius\n",
    "  for target_index, row in enumerate(data):\n",
    "    if source_index != target_index:\n",
    "      similarity = gaussian_kernel(vertex, row, sigma)\n",
    "      if similarity > epsilon:\n",
    "        similarities.append((source_index, target_index, similarity))\n",
    "\n",
    "  # Seřadíme podle podobnosti\n",
    "  similarities.sort(key=lambda x: x[2], reverse=True)\n",
    "\n",
    "  # KNN\n",
    "  # K nejmensich\n",
    "  k_nearest = similarities[:k]\n",
    "\n",
    "  return k_nearest"
   ]
  },
  {
   "cell_type": "code",
   "execution_count": 7,
   "metadata": {
    "id": "oAyTsXk3bbWU"
   },
   "outputs": [],
   "source": [
    "# KNN\n",
    "output_results = []\n",
    "for source_index, vertex in enumerate(data):\n",
    "  result_knn = knn(data, source_index, vertex, k=3, sigma=1)\n",
    "\n",
    "  for line in result_knn:\n",
    "    if (line[1], line[0],line[2]) not in output_results and (line[0], line[1],line[2]) not in output_results:\n",
    "      if line[0] < line[1]:\n",
    "        output_results.append(line)\n",
    "      else:\n",
    "        output_results.append((line[1],line[0],line[2]))\n",
    "\n",
    "# Seřaď podle Source, Target\n",
    "output_results.sort(key=lambda x: (x[0], x[1]))\n",
    "\n",
    "results_df = pd.DataFrame(output_results, columns=[\"Source\", \"Target\", \"Sim\"])\n",
    "\n",
    "results_df\n",
    "results_df.to_csv('knn.csv', index=False)"
   ]
  },
  {
   "cell_type": "code",
   "execution_count": 8,
   "metadata": {
    "id": "fOGsc40j7mnS"
   },
   "outputs": [],
   "source": [
    "# E-radius\n",
    "\n",
    "output_results = []\n",
    "for source_index, vertex in enumerate(data):\n",
    "  result_knn = e_radius(data, source_index, vertex, epsilon=0.9, sigma=1)\n",
    "\n",
    "  for line in result_knn:\n",
    "    if (line[1], line[0],line[2]) not in output_results and (line[0], line[1],line[2]) not in output_results:\n",
    "      if line[0] < line[1]:\n",
    "        output_results.append(line)\n",
    "      else:\n",
    "        output_results.append((line[1],line[0],line[2]))\n",
    "\n",
    "# Seřaď podle Source, Target\n",
    "output_results.sort(key=lambda x: (x[0], x[1]))\n",
    "\n",
    "results_df = pd.DataFrame(output_results, columns=[\"Source\", \"Target\", \"Sim\"])\n",
    "\n",
    "#results_df\n",
    "results_df.to_csv('e_r.csv', index=False)"
   ]
  },
  {
   "cell_type": "code",
   "execution_count": 9,
   "metadata": {
    "id": "k09LChaWUegx"
   },
   "outputs": [],
   "source": [
    "# K_nn + E-radius\n",
    "output_results = []\n",
    "\n",
    "for source_index, vertex in enumerate(data):\n",
    "  result_knn = knn_e_radius(data, source_index, vertex, k=3, epsilon=0.9, sigma=1)\n",
    "  \n",
    "  for line in result_knn:\n",
    "    if (line[1], line[0],line[2]) not in output_results and (line[0], line[1],line[2]) not in output_results:\n",
    "      if line[0] < line[1]:\n",
    "        output_results.append(line)\n",
    "      else:\n",
    "        output_results.append((line[1],line[0],line[2]))\n",
    "\n",
    "# Seřaď podle Source, Target\n",
    "output_results.sort(key=lambda x: (x[0], x[1]))\n",
    "\n",
    "results_df = pd.DataFrame(output_results, columns=[\"Source\", \"Target\", \"Sim\"])\n",
    "\n",
    "#results_df\n",
    "results_df.to_csv('knn_e_radius.csv', index=False)"
   ]
  }
 ],
 "metadata": {
  "colab": {
   "provenance": []
  },
  "kernelspec": {
   "display_name": "Python 3",
   "name": "python3"
  },
  "language_info": {
   "codemirror_mode": {
    "name": "ipython",
    "version": 3
   },
   "file_extension": ".py",
   "mimetype": "text/x-python",
   "name": "python",
   "nbconvert_exporter": "python",
   "pygments_lexer": "ipython3",
   "version": "3.12.4"
  }
 },
 "nbformat": 4,
 "nbformat_minor": 0
}
